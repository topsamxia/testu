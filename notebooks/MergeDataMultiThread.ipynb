{
 "cells": [
  {
   "cell_type": "code",
   "execution_count": 5,
   "metadata": {
    "collapsed": true
   },
   "outputs": [],
   "source": [
    "import os\n",
    "import threadpool\n",
    "import datetime\n",
    "import time, random\n",
    "import pandas as pd"
   ]
  },
  {
   "cell_type": "code",
   "execution_count": 18,
   "metadata": {},
   "outputs": [
    {
     "name": "stdout",
     "output_type": "stream",
     "text": [
      "2017-10-02 20:58:49.967215\n",
      "/home/samx/notebooks/tus/mergeds1/16/SH000012.csv\n",
      "/home/samx/notebooks/tus/mergeds1/16/SH000011.csv/home/samx/notebooks/tus/mergeds1/16/SH000016.csv/home/samx/notebooks/tus/mergeds1/16/SH000027.csv/home/samx/notebooks/tus/mergeds1/16/SH000020.csv/home/samx/notebooks/tus/mergeds1/16/SH000009.csv/home/samx/notebooks/tus/mergeds1/16/SH000026.csv/home/samx/notebooks/tus/mergeds1/16/SH000019.csv/home/samx/notebooks/tus/mergeds1/16/SH000013.csv/home/samx/notebooks/tus/mergeds1/16/SH000003.csv/home/samx/notebooks/tus/mergeds1/16/SH000004.csv/home/samx/notebooks/tus/mergeds1/16/SH000015.csv/home/samx/notebooks/tus/mergeds1/16/SH000007.csv/home/samx/notebooks/tus/mergeds1/16/SH000006.csv/home/samx/notebooks/tus/mergeds1/16/SH000021.csv/home/samx/notebooks/tus/mergeds1/16/SH000002.csv/home/samx/notebooks/tus/mergeds1/16/SH000017.csv/home/samx/notebooks/tus/mergeds1/16/SH000010.csv\n",
      "\n",
      "\n",
      "\n",
      "\n",
      "\n",
      "\n",
      "\n",
      "\n",
      "\n",
      "\n",
      "\n",
      "\n",
      "\n",
      "\n",
      "\n",
      "\n",
      "/home/samx/notebooks/tus/mergeds1/16/SH000008.csv/home/samx/notebooks/tus/mergeds1/16/SH000022.csv/home/samx/notebooks/tus/mergeds1/16/SH000005.csv/home/samx/notebooks/tus/mergeds1/16/SH000001.csv/home/samx/notebooks/tus/mergeds1/16/SH000025.csv/home/samx/notebooks/tus/mergeds1/16/SH000018.csv\n",
      "\n",
      "\n",
      "\n",
      "\n",
      "\n",
      "done file: /home/samx/notebooks/tus/mergeds1/16/SH000022.csv\n",
      "done file: /home/samx/notebooks/tus/mergeds1/16/SH000026.csv\n",
      "done file: /home/samx/notebooks/tus/mergeds1/16/SH000004.csv\n",
      "done file: /home/samx/notebooks/tus/mergeds1/16/SH000005.csvdone file: /home/samx/notebooks/tus/mergeds1/16/SH000015.csvdone file: /home/samx/notebooks/tus/mergeds1/16/SH000027.csvdone file: /home/samx/notebooks/tus/mergeds1/16/SH000007.csvdone file: /home/samx/notebooks/tus/mergeds1/16/SH000020.csv\n",
      "done file: /home/samx/notebooks/tus/mergeds1/16/SH000018.csv\n",
      "\n",
      "\n",
      "\n",
      "\n",
      "done file: /home/samx/notebooks/tus/mergeds1/16/SH000012.csv\n",
      "done file: /home/samx/notebooks/tus/mergeds1/16/SH000013.csv\n",
      "done file: /home/samx/notebooks/tus/mergeds1/16/SH000019.csv\n",
      "done file: /home/samx/notebooks/tus/mergeds1/16/SH000003.csvdone file: /home/samx/notebooks/tus/mergeds1/16/SH000009.csv\n",
      "\n",
      "done file: /home/samx/notebooks/tus/mergeds1/16/SH000008.csvdone file: /home/samx/notebooks/tus/mergeds1/16/SH000002.csvdone file: /home/samx/notebooks/tus/mergeds1/16/SH000017.csvdone file: /home/samx/notebooks/tus/mergeds1/16/SH000006.csvdone file: /home/samx/notebooks/tus/mergeds1/16/SH000001.csvdone file: /home/samx/notebooks/tus/mergeds1/16/SH000021.csvdone file: /home/samx/notebooks/tus/mergeds1/16/SH000010.csvdone file: /home/samx/notebooks/tus/mergeds1/16/SH000025.csv\n",
      "\n",
      "\n",
      "\n",
      "\n",
      "\n",
      "\n",
      "\n",
      "done file: /home/samx/notebooks/tus/mergeds1/16/SH000011.csv\n",
      "done file: /home/samx/notebooks/tus/mergeds1/16/SH000016.csv\n",
      "2017-10-02 20:58:57.507117\n"
     ]
    }
   ],
   "source": [
    "\n",
    "def mergeData1(file_new = \"\", file_base = \"\", file_target = \"\"):\n",
    "    try:\n",
    "        print (file_new)\n",
    "        if file_new == \"\" and file_target == \"\": pass\n",
    "        if file_new == \"\" and file_base == \"\": pass\n",
    "        \n",
    "        # if both files are valid\n",
    "        if file_new != \"\" and file_base != \"\":\n",
    "\n",
    "            time_deal_base = pd.read_csv(file_base)\n",
    "            time_deal_base.set_index([\"date\", \"time\"], inplace=True)\n",
    "            time_deal_new = pd.read_csv(file_new)\n",
    "            time_deal_new.set_index([\"date\", \"time\"], inplace=True)\n",
    "\n",
    "            time_deal_new = time_deal_base.append(time_deal_new).drop_duplicates()\n",
    "            time_deal_new.to_csv(file_target)\n",
    "\n",
    "        else: # one of the file names is empty, then pure copy\n",
    "            file_name = file_new if file_new != \"\" else file_base\n",
    "            time_deal_new = pd.read_csv(file_new)\n",
    "            time_deal_new.set_index([\"date\", \"time\"], inplace=True)\n",
    "            time_deal_new.to_csv(file_target)\n",
    "    except:\n",
    "        print (\"something is wrong here: \"+file_new)\n",
    "    print (\"done file: \" + file_new)\n",
    "    \n",
    "def testFunction(file_new = \"\", file_base = \"\", file_target = \"\"):\n",
    "    timeduration = int(random.random() * 10.0)\n",
    "    time.sleep(timeduration)\n",
    "    print (file_new + file_base + file_target)\n",
    "\n",
    "if __name__ == '__main__':\n",
    "    base_dir = os.path.abspath(\"mergeds1/15\")\n",
    "    base_files = os.listdir(base_dir)\n",
    "\n",
    "    new_dir = os.path.abspath(\"mergeds1/16\")\n",
    "    new_files = os.listdir(new_dir)\n",
    "\n",
    "    target_dir = os.path.abspath(\"mergeds1/result\")\n",
    "\n",
    "    files_not_found = []\n",
    "\n",
    "    # prepare argument list\n",
    "    args_list = []\n",
    "    for new_file in new_files:\n",
    "        new_file_full = os.path.join(new_dir, new_file)\n",
    "        base_file_full = \"\"\n",
    "        if new_file in base_files:\n",
    "            base_file_full = os.path.join(base_dir, new_file)\n",
    "        target_file_full = os.path.join(target_dir, new_file)\n",
    "\n",
    "        args_list.append(([new_file_full, base_file_full, target_file_full], None))\n",
    "\n",
    "    pool = threadpool.ThreadPool(24)\n",
    "\n",
    "    print (datetime.datetime.now())\n",
    "    requests = threadpool.makeRequests(mergeData1, args_list)\n",
    "    [pool.putRequest(req) for req in requests]\n",
    "    pool.wait()\n",
    "    print (datetime.datetime.now())\n"
   ]
  },
  {
   "cell_type": "code",
   "execution_count": 8,
   "metadata": {},
   "outputs": [],
   "source": [
    "base_dir = os.path.abspath(\"mergeds1/15\")"
   ]
  },
  {
   "cell_type": "code",
   "execution_count": 12,
   "metadata": {},
   "outputs": [
    {
     "name": "stdout",
     "output_type": "stream",
     "text": [
      "/home/samx/notebooks/tus/mergeds1/15/SH000001.csv\n"
     ]
    }
   ],
   "source": [
    "mergeData1(\"/home/samx/notebooks/tus/mergeds1/15/SH000001.csv\", \"/home/samx/notebooks/tus/mergeds1/16/SH000001.csv\", \"/home/samx/notebooks/tus/mergeds1/result/SH000001.csv\")"
   ]
  },
  {
   "cell_type": "code",
   "execution_count": null,
   "metadata": {
    "collapsed": true
   },
   "outputs": [],
   "source": []
  }
 ],
 "metadata": {
  "kernelspec": {
   "display_name": "Python 3",
   "language": "python",
   "name": "python3"
  },
  "language_info": {
   "codemirror_mode": {
    "name": "ipython",
    "version": 3
   },
   "file_extension": ".py",
   "mimetype": "text/x-python",
   "name": "python",
   "nbconvert_exporter": "python",
   "pygments_lexer": "ipython3",
   "version": "3.6.1"
  }
 },
 "nbformat": 4,
 "nbformat_minor": 2
}
