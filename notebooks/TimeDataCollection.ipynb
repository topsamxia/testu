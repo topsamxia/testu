{
 "cells": [
  {
   "cell_type": "code",
   "execution_count": null,
   "metadata": {},
   "outputs": [
    {
     "name": "stdout",
     "output_type": "stream",
     "text": [
      "[Getting data:]############################################################"
     ]
    }
   ],
   "source": [
    "import pandas as pd\n",
    "import tushare as ts\n",
    "import os\n",
    "import time\n",
    "import datetime\n",
    "import threading\n",
    "\n",
    "\n",
    "def obtain_current_data(dir=\"\"):\n",
    "    time_mark = time.strftime(\"%Y%m%d %H%M%S\")\n",
    "    df = ts.get_today_all()\n",
    "    df.to_csv(os.path.join(dir, time_mark)+\".csv\")\n",
    "\n",
    "while (True):\n",
    "    now = datetime.datetime.now()\n",
    "    today_begin1 = datetime.datetime(now.year, now.month, now.day, 9, 29)\n",
    "    today_end1 = datetime.datetime(now.year, now.month, now.day, 11, 31)\n",
    "    today_begin2 = datetime.datetime(now.year, now.month, now.day, 12, 59)\n",
    "    today_end2 = datetime.datetime(now.year, now.month, now.day, 15, 1)\n",
    "\n",
    "    # create folder\n",
    "    cwd = os.getcwd()\n",
    "    today_date = time.strftime(\"%Y%m%d\")\n",
    "    target_dir = cwd+os.path.sep+today_date+\"_time\"\n",
    "    try:\n",
    "        os.makedirs(name=target_dir)\n",
    "    except:\n",
    "        print ('folder already existed')\n",
    "\n",
    "    now = datetime.datetime.now()\n",
    "\n",
    "    duration_mins = 2\n",
    "\n",
    "    while (now-today_end2).days < 0: \n",
    "        while (now.timetuple().tm_sec != 0) or (now.timetuple().tm_min % duration_mins != 0) :\n",
    "            time.sleep(1)\n",
    "            now = datetime.datetime.now()\n",
    "\n",
    "        if (((today_begin1-now).days < 0 and (now-today_end1).days < 0) or ((today_begin2-now).days < 0 and (now-today_end2).days < 0)) :\n",
    "            t = threading.Thread(target=obtain_current_data, args=(target_dir,))\n",
    "            t.start()\n",
    "\n",
    "        time.sleep(duration_mins * 60 - 15)\n",
    "        now = datetime.datetime.now()\n",
    "    \n",
    "    time.sleep(3600)"
   ]
  },
  {
   "cell_type": "code",
   "execution_count": 8,
   "metadata": {},
   "outputs": [
    {
     "data": {
      "text/plain": [
       "24"
      ]
     },
     "execution_count": 8,
     "metadata": {},
     "output_type": "execute_result"
    }
   ],
   "source": [
    "now.timetuple().tm_min"
   ]
  },
  {
   "cell_type": "code",
   "execution_count": 17,
   "metadata": {},
   "outputs": [
    {
     "data": {
      "text/plain": [
       "False"
      ]
     },
     "execution_count": 17,
     "metadata": {},
     "output_type": "execute_result"
    }
   ],
   "source": [
    "((today_begin1-now).days < 0 and (now-today_end1).days < 0) or ((today_begin2-now).days < 0 and (now-today_end2).days < 0)"
   ]
  },
  {
   "cell_type": "code",
   "execution_count": null,
   "metadata": {
    "collapsed": true
   },
   "outputs": [],
   "source": []
  }
 ],
 "metadata": {
  "kernelspec": {
   "display_name": "Python 3",
   "language": "python",
   "name": "python3"
  },
  "language_info": {
   "codemirror_mode": {
    "name": "ipython",
    "version": 3
   },
   "file_extension": ".py",
   "mimetype": "text/x-python",
   "name": "python",
   "nbconvert_exporter": "python",
   "pygments_lexer": "ipython3",
   "version": "3.6.1"
  }
 },
 "nbformat": 4,
 "nbformat_minor": 2
}
