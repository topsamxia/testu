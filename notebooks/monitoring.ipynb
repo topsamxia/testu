{
 "cells": [
  {
   "cell_type": "code",
   "execution_count": 1,
   "metadata": {},
   "outputs": [
    {
     "name": "stdout",
     "output_type": "stream",
     "text": [
      "41:11\n",
      "condition 1:000791\n",
      "condition 1:002017\n",
      "condition 1:002076\n",
      "condition 1:002194\n",
      "condition 1:002264\n",
      "condition 1:002432\n",
      "condition 1:002843\n",
      "condition 1:002856\n",
      "condition 1:002893\n",
      "condition 1:300277\n",
      "condition 1:300562\n",
      "condition 1:300565\n",
      "condition 1:300585\n",
      "condition 1:300597\n",
      "condition 1:300700\n",
      "condition 1:603136\n",
      "condition 1:603157\n",
      "condition 1:603378\n",
      "condition 1:603813\n",
      "condition 1:603888\n",
      "condition 1:603963\n",
      "condition 2:002813\n",
      "condition 2:300556\n",
      "condition 3:000301\n",
      "condition 3:002662\n",
      "condition 3:603501\n",
      "{'603813': '/root/notebooks/tus/20171013/day_603813.csv', '002194': '/root/notebooks/tus/20171013/day_002194.csv', '002432': '/root/notebooks/tus/20171013/day_002432.csv', '603136': '/root/notebooks/tus/20171013/day_603136.csv', '002843': '/root/notebooks/tus/20171013/day_002843.csv', '603501': '/root/notebooks/tus/20171013/day_603501.csv', '002076': '/root/notebooks/tus/20171013/day_002076.csv', '002813': '/root/notebooks/tus/20171013/day_002813.csv', '603157': '/root/notebooks/tus/20171013/day_603157.csv', '603888': '/root/notebooks/tus/20171013/day_603888.csv', '603378': '/root/notebooks/tus/20171013/day_603378.csv', '002662': '/root/notebooks/tus/20171013/day_002662.csv', '002856': '/root/notebooks/tus/20171013/day_002856.csv', '002264': '/root/notebooks/tus/20171013/day_002264.csv', '000301': '/root/notebooks/tus/20171013/day_000301.csv', '002017': '/root/notebooks/tus/20171013/day_002017.csv', '300585': '/root/notebooks/tus/20171013/day_300585.csv', '300277': '/root/notebooks/tus/20171013/day_300277.csv', '000791': '/root/notebooks/tus/20171013/day_000791.csv', '300565': '/root/notebooks/tus/20171013/day_300565.csv', '300562': '/root/notebooks/tus/20171013/day_300562.csv', '300556': '/root/notebooks/tus/20171013/day_300556.csv', '603963': '/root/notebooks/tus/20171013/day_603963.csv', '300597': '/root/notebooks/tus/20171013/day_300597.csv', '300700': '/root/notebooks/tus/20171013/day_300700.csv', '002893': '/root/notebooks/tus/20171013/day_002893.csv'}\n",
      "41:20\n"
     ]
    }
   ],
   "source": [
    "import pandas as pd\n",
    "import os, time\n",
    "\n",
    "# determine 涨停\n",
    "def isZhangting(s_df, index=-1):\n",
    "    if (s_df.iloc[index].close/s_df.iloc[index-1].close) >= 1.099:\n",
    "        return True\n",
    "    else:\n",
    "        return False\n",
    "\n",
    "#determine 上涨\n",
    "def isShangzhang(s_df, index=-1):\n",
    "    if len(s_df.index) >= (index)+1:\n",
    "        return ((s_df.iloc[index].close/s_df.iloc[index-1].close-1) > 0.02)\n",
    "    else:\n",
    "        return False\n",
    "\n",
    "#determine 条件一\n",
    "def isQualifiedCondition1(s_df, index=-1):\n",
    "    if len(stock_df.index)>=(abs(index)+2):\n",
    "        if (s_df.iloc[index].close * s_df.iloc[index].volume > 200000):\n",
    "            return  (isZhangting(s_df, index-1) and isShangzhang(s_df,index))\n",
    "    return False\n",
    "\n",
    "#determine 条件二\n",
    "def isQualifiedCondition2(s_df, index=-1):\n",
    "    if len(stock_df.index)>=(abs(index)+3):\n",
    "        if (s_df.iloc[index].close / s_df.iloc[index-2].close < 0.92) \\\n",
    "                and (s_df.iloc[index].close<s_df.iloc[index-1].close) \\\n",
    "                and (s_df.iloc[index-1].close<s_df.iloc[index-2].close)\\\n",
    "                and isZhangting(s_df, index-2):\n",
    "            return True\n",
    "    return False\n",
    "\n",
    "#determine 条件三\n",
    "def isQualifiedCondition3(s_df, index=-1):\n",
    "    if len(stock_df.index)>=(abs(index)+3): \n",
    "        if isQualifiedCondition1(s_df, index-1): \n",
    "            if (s_df.iloc[index].close / s_df.iloc[index-1].close < 0.95):\n",
    "                return True\n",
    "        return False\n",
    "        \n",
    "def completeCode(code_str):\n",
    "    if len(code_str)<6:\n",
    "        return \"0\"*(6-len(code_str))+code_str\n",
    "    else:\n",
    "        return code_str\n",
    "\n",
    "print (time.strftime(\"%M:%S\"))\n",
    "    \n",
    "########################################\n",
    "datafolder_dir = os.getcwd()+\"/20171013\"\n",
    "########################################\n",
    "\n",
    "file_list = os.listdir(datafolder_dir)\n",
    "\n",
    "file_index = 0\n",
    "select_list = []\n",
    "file_dict = {}\n",
    "for file in file_list:\n",
    "    #print (\"Working on file %s: %s\"%(file_index, file))\n",
    "    file_index = file_index + 1\n",
    "    if (\"day\" in file):\n",
    "        stock_df = pd.read_csv(datafolder_dir+\"/\"+file)\n",
    "        if isQualifiedCondition1(stock_df):\n",
    "            select_list.append(\"condition 1:\" + completeCode(str(stock_df.iloc[0].code)))\n",
    "            file_dict[completeCode(str(stock_df.iloc[0].code))] = datafolder_dir+\"/\"+file\n",
    "        if isQualifiedCondition2(stock_df):\n",
    "            select_list.append(\"condition 2:\" + completeCode(str(stock_df.iloc[0].code)))\n",
    "            file_dict[completeCode(str(stock_df.iloc[0].code))] = datafolder_dir+\"/\"+file\n",
    "        if isQualifiedCondition3(stock_df):\n",
    "            select_list.append(\"condition 3:\" + completeCode(str(stock_df.iloc[0].code)))\n",
    "            file_dict[completeCode(str(stock_df.iloc[0].code))] = datafolder_dir+\"/\"+file\n",
    "\n",
    "select_list.sort()\n",
    "\n",
    "for file in select_list:\n",
    "    print (file)\n",
    "\n",
    "print (file_dict)\n",
    "print (time.strftime(\"%M:%S\"))\n"
   ]
  },
  {
   "cell_type": "code",
   "execution_count": 2,
   "metadata": {},
   "outputs": [
    {
     "name": "stdout",
     "output_type": "stream",
     "text": [
      "['000791', '002017', '002076', '002194', '002264', '002432', '002843', '002856', '002893', '300277', '300562', '300565', '300585', '300597', '300700', '603136', '603157', '603378', '603813', '603888', '603963', '002813', '300556', '000301', '002662', '603501']\n"
     ]
    }
   ],
   "source": [
    "for index in range(len(select_list)):\n",
    "    select_list[index] = select_list[index][-6:]\n",
    "\n",
    "print (select_list)"
   ]
  },
  {
   "cell_type": "code",
   "execution_count": 3,
   "metadata": {
    "scrolled": true
   },
   "outputs": [
    {
     "name": "stdout",
     "output_type": "stream",
     "text": [
      "000791\n",
      "002017\n",
      "002076\n",
      "002194\n",
      "002264\n",
      "002432\n",
      "002843\n",
      "002856\n",
      "002893\n",
      "300277\n",
      "300562\n",
      "300565\n",
      "300585\n",
      "300597\n",
      "300700\n",
      "603136\n",
      "603157\n",
      "603378\n",
      "603813\n",
      "603888\n",
      "603963\n",
      "002813\n",
      "300556\n",
      "000301\n",
      "002662\n",
      "603501\n",
      "26\n",
      "           date   open  close   high    low    volume  code\n",
      "636  2017-10-09  11.85  11.77  12.09  11.60  169779.0  2017\n",
      "637  2017-10-10  11.74  11.87  11.87  11.47  112729.0  2017\n",
      "638  2017-10-11  11.72  11.40  11.77  11.35   84621.0  2017\n",
      "639  2017-10-12  11.40  12.54  12.54  11.40  165242.0  2017\n",
      "640  2017-10-13  12.87  13.05  13.38  12.66  402844.0  2017\n"
     ]
    }
   ],
   "source": [
    "stock_df_list = []\n",
    "for item in select_list:\n",
    "    print (item)\n",
    "    stock_df_list.append(pd.read_csv(file_dict[item]))\n",
    "\n",
    "print (len(stock_df_list))\n",
    "print (stock_df_list[1].tail())"
   ]
  },
  {
   "cell_type": "code",
   "execution_count": 4,
   "metadata": {},
   "outputs": [],
   "source": [
    "import tushare as ts\n",
    "for index in range(len(select_list)):\n",
    "    df = ts.get_realtime_quotes(select_list[index])\n",
    "    # print (float(stock_df_list[index].tail(1).close), float(df.iloc[0][\"price\"]))\n",
    "    ratio = (float(df.iloc[0][\"price\"]) / float(stock_df_list[index].tail(1).close))\n",
    "    if ratio < 0.97 and ratio > 0.85:\n",
    "        print (select_list[index], \"diff is %s\"%((1-ratio)*100))"
   ]
  },
  {
   "cell_type": "code",
   "execution_count": null,
   "metadata": {
    "collapsed": true
   },
   "outputs": [],
   "source": []
  }
 ],
 "metadata": {
  "kernelspec": {
   "display_name": "Python 3",
   "language": "python",
   "name": "python3"
  },
  "language_info": {
   "codemirror_mode": {
    "name": "ipython",
    "version": 3
   },
   "file_extension": ".py",
   "mimetype": "text/x-python",
   "name": "python",
   "nbconvert_exporter": "python",
   "pygments_lexer": "ipython3",
   "version": "3.6.1"
  }
 },
 "nbformat": 4,
 "nbformat_minor": 2
}
