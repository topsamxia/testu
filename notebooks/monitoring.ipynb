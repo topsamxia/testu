{
 "cells": [
  {
   "cell_type": "code",
   "execution_count": 5,
   "metadata": {},
   "outputs": [
    {
     "name": "stdout",
     "output_type": "stream",
     "text": [
      "18:10\n",
      "condition 1:000418\n",
      "condition 1:002194\n",
      "condition 1:002846\n",
      "condition 1:300176\n",
      "condition 1:300425\n",
      "condition 1:300707\n",
      "condition 1:603040\n",
      "condition 1:603335\n",
      "condition 3:002264\n",
      "condition 3:002902\n",
      "condition 3:603110\n",
      "{'300425': '/root/notebooks/current/day_300425.csv', '300176': '/root/notebooks/current/day_300176.csv', '603040': '/root/notebooks/current/day_603040.csv', '000418': '/root/notebooks/current/day_000418.csv', '002846': '/root/notebooks/current/day_002846.csv', '002194': '/root/notebooks/current/day_002194.csv', '002264': '/root/notebooks/current/day_002264.csv', '603335': '/root/notebooks/current/day_603335.csv', '002902': '/root/notebooks/current/day_002902.csv', '300707': '/root/notebooks/current/day_300707.csv', '603110': '/root/notebooks/current/day_603110.csv'}\n",
      "18:19\n",
      "['000418', '002194', '002846', '300176', '300425', '300707', '603040', '603335', '002264', '002902', '603110']\n",
      "000418\n",
      "002194\n",
      "002846\n",
      "300176\n",
      "300425\n",
      "300707\n",
      "603040\n",
      "603335\n",
      "002264\n",
      "002902\n",
      "603110\n",
      "11\n",
      "           date   open  close   high    low    volume  code\n",
      "635  2017-09-25  10.55  10.55  10.55  10.46  217471.0  2194\n",
      "636  2017-09-26  10.00  11.35  11.57   9.88  673582.0  2194\n",
      "637  2017-09-27  10.84  12.49  12.49  10.51  629363.0  2194\n",
      "638  2017-09-28  12.01  13.74  13.74  12.01  748442.0  2194\n",
      "639  2017-09-29  13.60  15.11  15.11  13.09  615969.0  2194\n"
     ]
    }
   ],
   "source": [
    "import pandas as pd\n",
    "import os, time\n",
    "\n",
    "# determine 涨停\n",
    "def isZhangting(s_df, index=-1):\n",
    "    if (s_df.iloc[index].close/s_df.iloc[index-1].close) >= 1.099:\n",
    "        return True\n",
    "    else:\n",
    "        return False\n",
    "\n",
    "#determine 上涨\n",
    "def isShangzhang(s_df, index=-1):\n",
    "    if len(s_df.index) >= (index)+1:\n",
    "        return ((s_df.iloc[index].close/s_df.iloc[index-1].close-1) > 0.02)\n",
    "    else:\n",
    "        return False\n",
    "\n",
    "#determine 条件一\n",
    "def isQualifiedCondition1(s_df, index=-1):\n",
    "    if len(stock_df.index)>=(abs(index)+2):\n",
    "        if (s_df.iloc[index].close * s_df.iloc[index].volume > 200000):\n",
    "            return  (isZhangting(s_df, index-1) and isShangzhang(s_df,index))\n",
    "    return False\n",
    "\n",
    "#determine 条件二\n",
    "def isQualifiedCondition2(s_df, index=-1):\n",
    "    if len(stock_df.index)>=(abs(index)+3):\n",
    "        if (s_df.iloc[index].close / s_df.iloc[index-2].close < 0.92) \\\n",
    "                and (s_df.iloc[index].close<s_df.iloc[index-1].close) \\\n",
    "                and (s_df.iloc[index-1].close<s_df.iloc[index-2].close)\\\n",
    "                and isZhangting(s_df, index-2):\n",
    "            return True\n",
    "    return False\n",
    "\n",
    "#determine 条件三\n",
    "def isQualifiedCondition3(s_df, index=-1):\n",
    "    if len(stock_df.index)>=(abs(index)+3): \n",
    "        if isQualifiedCondition1(s_df, index-1): \n",
    "            if (s_df.iloc[index].close / s_df.iloc[index-1].close < 0.95):\n",
    "                return True\n",
    "        return False\n",
    "        \n",
    "def completeCode(code_str):\n",
    "    if len(code_str)<6:\n",
    "        return \"0\"*(6-len(code_str))+code_str\n",
    "    else:\n",
    "        return code_str\n",
    "\n",
    "print (time.strftime(\"%M:%S\"))\n",
    "    \n",
    "########################################\n",
    "datafolder_dir = os.getcwd()+\"/current\"\n",
    "########################################\n",
    "\n",
    "file_list = os.listdir(datafolder_dir)\n",
    "\n",
    "file_index = 0\n",
    "select_list = []\n",
    "file_dict = {}\n",
    "\n",
    "index_post = -1\n",
    "index_trading = -2\n",
    "\n",
    "index_offset = index_post\n",
    "\n",
    "for file in file_list:\n",
    "    #print (\"Working on file %s: %s\"%(file_index, file))\n",
    "    file_index = file_index + 1\n",
    "    if (\"day\" in file):\n",
    "        stock_df = pd.read_csv(datafolder_dir+\"/\"+file)\n",
    "        if isQualifiedCondition1(stock_df, index_offset):\n",
    "            select_list.append(\"condition 1:\" + completeCode(str(stock_df.iloc[0].code)))\n",
    "            file_dict[completeCode(str(stock_df.iloc[0].code))] = datafolder_dir+\"/\"+file\n",
    "        if isQualifiedCondition2(stock_df, index_offset):\n",
    "            select_list.append(\"condition 2:\" + completeCode(str(stock_df.iloc[0].code)))\n",
    "            file_dict[completeCode(str(stock_df.iloc[0].code))] = datafolder_dir+\"/\"+file\n",
    "        if isQualifiedCondition3(stock_df, index_offset):\n",
    "            select_list.append(\"condition 3:\" + completeCode(str(stock_df.iloc[0].code)))\n",
    "            file_dict[completeCode(str(stock_df.iloc[0].code))] = datafolder_dir+\"/\"+file\n",
    "\n",
    "select_list.sort()\n",
    "\n",
    "for file in select_list:\n",
    "    print (file)\n",
    "\n",
    "print (file_dict)\n",
    "print (time.strftime(\"%M:%S\"))\n",
    "\n",
    "for index in range(len(select_list)):\n",
    "    select_list[index] = select_list[index][-6:]\n",
    "\n",
    "print (select_list)\n",
    "\n",
    "stock_df_list = []\n",
    "for item in select_list:\n",
    "    print (item)\n",
    "    stock_df_list.append(pd.read_csv(file_dict[item]))\n",
    "\n",
    "print (len(stock_df_list))\n",
    "print (stock_df_list[1].tail())\n"
   ]
  },
  {
   "cell_type": "code",
   "execution_count": 4,
   "metadata": {},
   "outputs": [
    {
     "name": "stdout",
     "output_type": "stream",
     "text": [
      "002902 diff is 6.551724137931025\n",
      "603110 diff is 4.668487707971202\n",
      "603238 diff is 3.598658127477894\n",
      "603896 diff is 3.3700254022015153\n"
     ]
    }
   ],
   "source": [
    "\n",
    "import tushare as ts\n",
    "for index in range(len(select_list)):\n",
    "    df = ts.get_realtime_quotes(select_list[index])\n",
    "    # print (float(stock_df_list[index].tail(1).close), float(df.iloc[0][\"price\"]))\n",
    "    ratio = (float(df.iloc[0][\"price\"]) / float(stock_df_list[index].iloc[-2].close))\n",
    "    if ratio < 0.97 and ratio > 0.87:\n",
    "        print (select_list[index], \"diff is %s\"%((1-ratio)*100))"
   ]
  },
  {
   "cell_type": "code",
   "execution_count": 26,
   "metadata": {
    "collapsed": true
   },
   "outputs": [],
   "source": [
    "watch_list = [\"000547\", \"603859\", \"300496\", \"300134\", \"300313\", \"000912\", \"300520\", \"300548\", \"300225\", \"002378\", \"603598\", \"300312\", \"603676\", \"300334\", \"300591\", \"300631\", \"603505\", \"300550\", \"300380\", \"300340\", \"300412\", \"300649\", \"300675\", \"300020\", \"300552\", \"300635\", \"600251\", \"600460\", \"002315\", \"300556\", \"002432\", \"603888\", \"000791\", \"603233\", \"002076\", \"002900\", \"002017\", \"300701\", \"603822\", \"002843\", \"603136\", \"300565\", \"603227\", \"603918\"]"
   ]
  },
  {
   "cell_type": "code",
   "execution_count": 30,
   "metadata": {
    "collapsed": true
   },
   "outputs": [],
   "source": [
    "# clean up the index with numbers, and make date the default index\n",
    "def pre_process(df):\n",
    "    df.set_index('date', inplace=True)\n",
    "    return df\n",
    "\n",
    "def obtain_daily_data(sk_code, target_dir = \"\"):\n",
    "    if target_dir!=\"\":\n",
    "        target_dir=target_dir+os.path.sep\n",
    "\n",
    "    day_df = pre_process(ts.get_k_data(sk_code))\n",
    "    return day_df\n",
    "\n",
    "def get_price(sk_code):\n",
    "    df = obtain_daily_data(sk_code)\n",
    "    return df.iloc[-2][\"close\"]\n",
    "\n"
   ]
  },
  {
   "cell_type": "code",
   "execution_count": 40,
   "metadata": {
    "collapsed": true
   },
   "outputs": [],
   "source": [
    "last_price_map = {}\n",
    "current_price_map = {}\n",
    "for stk_code in watch_list:\n",
    "    last_price_map[stk_code] = get_price(stk_code)\n",
    "    df = ts.get_realtime_quotes(stk_code)\n",
    "    current_price_map[stk_code] = float(df.iloc[0][\"price\"])"
   ]
  },
  {
   "cell_type": "code",
   "execution_count": 46,
   "metadata": {},
   "outputs": [
    {
     "name": "stdout",
     "output_type": "stream",
     "text": [
      "603859 3.04168231318\n",
      "300334 3.13152400835\n",
      "300649 5.71963394343\n",
      "300675 4.54217736121\n",
      "300552 3.34175793316\n",
      "603233 3.43691148776\n",
      "002900 4.09707724426\n",
      "603822 3.31230283912\n",
      "average is:  0.878492586255\n"
     ]
    }
   ],
   "source": [
    "average = 0.0\n",
    "for stk_code in watch_list:\n",
    "    difference = 100 * (current_price_map[stk_code]/last_price_map[stk_code] - 1)\n",
    "    average += difference\n",
    "    if (difference > 3.0 or\n",
    "        difference < -3.0):\n",
    "        print (stk_code, difference)\n",
    "average = average / len(watch_list)\n",
    "print (\"average is: \", average)"
   ]
  },
  {
   "cell_type": "code",
   "execution_count": null,
   "metadata": {
    "collapsed": true
   },
   "outputs": [],
   "source": []
  }
 ],
 "metadata": {
  "kernelspec": {
   "display_name": "Python 3",
   "language": "python",
   "name": "python3"
  },
  "language_info": {
   "codemirror_mode": {
    "name": "ipython",
    "version": 3
   },
   "file_extension": ".py",
   "mimetype": "text/x-python",
   "name": "python",
   "nbconvert_exporter": "python",
   "pygments_lexer": "ipython3",
   "version": "3.6.1"
  }
 },
 "nbformat": 4,
 "nbformat_minor": 2
}
