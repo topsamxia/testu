{
 "cells": [
  {
   "cell_type": "code",
   "execution_count": null,
   "metadata": {},
   "outputs": [],
   "source": [
    "from apscheduler.schedulers.blocking import BlockingScheduler\n",
    "from apscheduler.schedulers.background import BackgroundScheduler\n",
    "from datetime import datetime\n",
    "import time\n",
    "import os\n",
    "\n",
    "def job():\n",
    "    time_mark_str = datetime.now().strftime(\"%Y-%m-%d %H:%M:%S\")\n",
    "    print(time_mark_str)\n",
    "    with open('log1.txt', 'a') as f:\n",
    "        f.write(time_mark_str+os.linesep)\n",
    "\n",
    "    # 定义BlockingScheduler\n",
    "sched = BlockingScheduler()\n",
    "\n",
    "def schedule_minute_helper(sched, job_func, minute_interval='5'):\n",
    "    minute_30 = '30-59/' + minute_interval\n",
    "    sched.add_job(job_func, 'cron', day_of_week='mon-fri', hour='9', minute=minute_30)\n",
    "    minute_30 = '0-30/' + minute_interval\n",
    "    sched.add_job(job_func, 'cron', day_of_week='mon-fri', hour='11', minute=minute_30)\n",
    "    minute_60 = '0-59/' + minute_interval\n",
    "    sched.add_job(job, 'cron', day_of_week='mon-fri', hour='10,13,14', minute=minute_60)\n",
    "    sched.add_job(job, 'cron', day_of_week='mon-fri', hour='15', minute='0')\n",
    "\n",
    "def schedule_daily_helper(sched, job_func, jitter_min='10'):\n",
    "    sched.add_job(job, 'cron', day_of_week='mon-fri', hour='15', minute=jitter_min)\n",
    "\n",
    "schedule_minute_helper(sched, job, '5')\n",
    "schedule_minute_helper(sched, job, '2')\n",
    "schedule_daily_helper(sched, job, '15')\n",
    "\n",
    "sched.start()"
   ]
  },
  {
   "cell_type": "code",
   "execution_count": 1,
   "metadata": {},
   "outputs": [],
   "source": [
    "import StkDailyTasks as stask"
   ]
  },
  {
   "cell_type": "code",
   "execution_count": 2,
   "metadata": {},
   "outputs": [
    {
     "name": "stdout",
     "output_type": "stream",
     "text": [
      "28:13\n",
      "condition 1:000567\n",
      "condition 1:002134\n",
      "condition 1:002360\n",
      "condition 1:002451\n",
      "condition 1:002580\n",
      "condition 1:002799\n",
      "condition 1:002930\n",
      "condition 1:300071\n",
      "condition 1:300139\n",
      "condition 1:300225\n",
      "condition 1:300277\n",
      "condition 1:300391\n",
      "condition 1:300491\n",
      "condition 1:300522\n",
      "condition 1:300547\n",
      "condition 1:300658\n",
      "condition 1:300706\n",
      "condition 1:300745\n",
      "condition 1:600448\n",
      "condition 1:600679\n",
      "condition 1:600689\n",
      "condition 1:600890\n",
      "condition 1:601066\n",
      "condition 1:601313\n",
      "condition 1:603278\n",
      "condition 1:603477\n",
      "condition 1:603587\n",
      "condition 1:603666\n",
      "condition 1:603722\n",
      "condition 2:002485\n",
      "condition 2:300023\n",
      "condition 3:002684\n",
      "condition 3:002909\n",
      "condition 3:300345\n",
      "['1:000567', '1:002134', '1:002360', '1:002451', '1:002580', '1:002799', '1:002930', '1:300071', '1:300139', '1:300225', '1:300277', '1:300391', '1:300491', '1:300522', '1:300547', '1:300658', '1:300706', '1:300745', '1:600448', '1:600679', '1:600689', '1:600890', '1:601066', '1:601313', '1:603278', '1:603477', '1:603587', '1:603666', '1:603722', '2:002485', '2:300023', '3:002684', '3:002909', '3:300345']\n"
     ]
    }
   ],
   "source": [
    "stask.get_daily_chart_current()"
   ]
  },
  {
   "cell_type": "code",
   "execution_count": null,
   "metadata": {},
   "outputs": [],
   "source": []
  }
 ],
 "metadata": {
  "kernelspec": {
   "display_name": "Python 3",
   "language": "python",
   "name": "python3"
  },
  "language_info": {
   "codemirror_mode": {
    "name": "ipython",
    "version": 3
   },
   "file_extension": ".py",
   "mimetype": "text/x-python",
   "name": "python",
   "nbconvert_exporter": "python",
   "pygments_lexer": "ipython3",
   "version": "3.6.5"
  }
 },
 "nbformat": 4,
 "nbformat_minor": 2
}
