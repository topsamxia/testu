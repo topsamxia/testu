{
 "cells": [
  {
   "cell_type": "code",
   "execution_count": null,
   "metadata": {},
   "outputs": [],
   "source": [
    "from apscheduler.schedulers.blocking import BlockingScheduler\n",
    "from apscheduler.schedulers.background import BackgroundScheduler\n",
    "from datetime import datetime\n",
    "import time\n",
    "import os\n",
    "\n",
    "def job():\n",
    "    time_mark_str = datetime.now().strftime(\"%Y-%m-%d %H:%M:%S\")\n",
    "    print(time_mark_str)\n",
    "    with open('log.txt', 'a') as f:\n",
    "        f.write(time_mark_str+os.linesep)\n",
    "\n",
    "    # 定义BlockingScheduler\n",
    "sched = BlockingScheduler()\n",
    "\n",
    "def schedule_minute_helper(sched, job_func, minute_interval='5'):\n",
    "    minute_30 = '30-59/' + minute_interval\n",
    "    sched.add_job(job_func, 'cron', day_of_week='mon-fri', hour='9', minute=minute_30)\n",
    "    minute_30 = '0-30/' + minute_interval\n",
    "    sched.add_job(job_func, 'cron', day_of_week='mon-fri', hour='11', minute=minute_30)\n",
    "    minute_60 = '0-59/' + minute_interval\n",
    "    sched.add_job(job, 'cron', day_of_week='mon-fri', hour='10,13,14', minute=minute_60)\n",
    "    sched.add_job(job, 'cron', day_of_week='mon-fri', hour='15', minute='0')\n",
    "\n",
    "def schedule_daily_helper(sched, job_func, jitter_min='10'):\n",
    "    sched.add_job(job, 'cron', day_of_week='mon-fri', hour='15', minute=jitter_min)\n",
    "\n",
    "schedule_minute_helper(sched, job, '5')\n",
    "schedule_minute_helper(sched, job, '2')\n",
    "schedule_daily_helper(sched, job, '15')\n",
    "\n",
    "sched.start()"
   ]
  },
  {
   "cell_type": "code",
   "execution_count": null,
   "metadata": {},
   "outputs": [],
   "source": []
  }
 ],
 "metadata": {
  "kernelspec": {
   "display_name": "Python 3",
   "language": "python",
   "name": "python3"
  },
  "language_info": {
   "codemirror_mode": {
    "name": "ipython",
    "version": 3
   },
   "file_extension": ".py",
   "mimetype": "text/x-python",
   "name": "python",
   "nbconvert_exporter": "python",
   "pygments_lexer": "ipython3",
   "version": "3.6.3"
  }
 },
 "nbformat": 4,
 "nbformat_minor": 2
}
