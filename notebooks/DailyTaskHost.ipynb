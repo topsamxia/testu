{
 "cells": [
  {
   "cell_type": "code",
   "execution_count": 1,
   "metadata": {},
   "outputs": [],
   "source": [
    "import StkDailyTasks as stask\n",
    "import StkScheduler as ssch\n",
    "import time, datetime"
   ]
  },
  {
   "cell_type": "code",
   "execution_count": null,
   "metadata": {},
   "outputs": [],
   "source": [
    "# time data every 2 minutes\n",
    "ssch.schedule_minute_helper(stask.get_time_current_data, minute_interval='2')\n",
    "ssch.schedule_minute_helper(stask.get_daily_chart_current, minute_interval='4')\n",
    "# current data every 10 minutes\n",
    "ssch.schedule_minute_helper(stask.get_current, minute_interval='10')\n",
    "# daily task for data\n",
    "ssch.schedule_daily_helper(stask.get_daily_data, None, '10')\n",
    "# daily task for chart\n",
    "ssch.schedule_daily_helper(stask.get_daily_chart, None, '15')\n",
    "\n",
    "ssch.sched.start()\n",
    "while(True):\n",
    "    time.sleep(100000)"
   ]
  },
  {
   "cell_type": "code",
   "execution_count": 17,
   "metadata": {},
   "outputs": [
    {
     "data": {
      "text/plain": [
       "datetime.datetime(2018, 6, 10, 22, 16, 13, 995662)"
      ]
     },
     "execution_count": 17,
     "metadata": {},
     "output_type": "execute_result"
    }
   ],
   "source": [
    "datetime.now()"
   ]
  },
  {
   "cell_type": "code",
   "execution_count": null,
   "metadata": {},
   "outputs": [],
   "source": []
  }
 ],
 "metadata": {
  "kernelspec": {
   "display_name": "Python 3",
   "language": "python",
   "name": "python3"
  },
  "language_info": {
   "codemirror_mode": {
    "name": "ipython",
    "version": 3
   },
   "file_extension": ".py",
   "mimetype": "text/x-python",
   "name": "python",
   "nbconvert_exporter": "python",
   "pygments_lexer": "ipython3",
   "version": "3.6.5"
  }
 },
 "nbformat": 4,
 "nbformat_minor": 2
}
