{
 "cells": [
  {
   "cell_type": "code",
   "execution_count": 1,
   "metadata": {
    "collapsed": true
   },
   "outputs": [],
   "source": [
    "import pandas as pd\n",
    "import tushare as ts\n",
    "import os\n",
    "import time, datetime\n",
    "import threadpool\n",
    "import StkDataKeeper as sk\n",
    "\n",
    "def getDailyData():\n",
    "    # create folder\n",
    "    cwd = os.getcwd()\n",
    "    # today_date = time.strftime(\"%Y%m%d\")\n",
    "    target_dir = \"current\" # today_date\n",
    "    try:\n",
    "        os.makedirs(name=target_dir)\n",
    "    except:\n",
    "        print ('folder already existed')\n",
    "\n",
    "    # clean up the index with numbers, and make date the default index\n",
    "    def pre_process(df):\n",
    "        df.set_index('date', inplace=True)\n",
    "        return df\n",
    "\n",
    "    def obtain_daily_data(sk_code, target_dir = \"\"):\n",
    "        \n",
    "        # print (\"Processing: \"+sk_code)\n",
    "\n",
    "        if target_dir!=\"\":\n",
    "            target_dir=target_dir+os.path.sep\n",
    "\n",
    "        day_df = pre_process(ts.get_k_data(sk_code))\n",
    "        csv_filename = target_dir + \"day_\" + sk_code + \".csv\"\n",
    "        day_df.to_csv(csv_filename)\n",
    "        \n",
    "        # print (day_df.head(1))\n",
    "\n",
    "#         five_min_df = pre_process(ts.get_k_data(sk_code, ktype='5'))\n",
    "#         csv_filename = target_dir + \"5min_\" + sk_code + \".csv\"\n",
    "#         five_min_df.to_csv(csv_filename)\n",
    "\n",
    "#         print (five_min_df.head(1))\n",
    "\n",
    "    # obtain stock list\n",
    "    stock_basics = ts.get_stock_basics()\n",
    "    code_series = stock_basics.index\n",
    "\n",
    "    # prepare arguments\n",
    "    args_list=[]\n",
    "    for code in code_series:\n",
    "        args_list.append(([code, target_dir], None))\n",
    "\n",
    "    # collect\n",
    "    pool = threadpool.ThreadPool(50)\n",
    "    requests = threadpool.makeRequests(obtain_daily_data, args_list)\n",
    "    [pool.putRequest(req) for req in requests]\n",
    "    pool.wait()\n",
    "\n",
    "    print ('Get data done')"
   ]
  },
  {
   "cell_type": "code",
   "execution_count": 2,
   "metadata": {},
   "outputs": [
    {
     "ename": "KeyboardInterrupt",
     "evalue": "",
     "output_type": "error",
     "traceback": [
      "\u001b[0;31m---------------------------------------------------------------------------\u001b[0m",
      "\u001b[0;31mKeyboardInterrupt\u001b[0m                         Traceback (most recent call last)",
      "\u001b[0;32m<ipython-input-2-ae682eacd456>\u001b[0m in \u001b[0;36m<module>\u001b[0;34m()\u001b[0m\n\u001b[1;32m     31\u001b[0m         \u001b[0mnow\u001b[0m \u001b[0;34m=\u001b[0m \u001b[0mdatetime\u001b[0m\u001b[0;34m.\u001b[0m\u001b[0mdatetime\u001b[0m\u001b[0;34m.\u001b[0m\u001b[0mnow\u001b[0m\u001b[0;34m(\u001b[0m\u001b[0;34m)\u001b[0m\u001b[0;34m\u001b[0m\u001b[0m\n\u001b[1;32m     32\u001b[0m \u001b[0;34m\u001b[0m\u001b[0m\n\u001b[0;32m---> 33\u001b[0;31m     \u001b[0mtime\u001b[0m\u001b[0;34m.\u001b[0m\u001b[0msleep\u001b[0m\u001b[0;34m(\u001b[0m\u001b[0;36m3600\u001b[0m\u001b[0;34m)\u001b[0m\u001b[0;34m\u001b[0m\u001b[0m\n\u001b[0m",
      "\u001b[0;31mKeyboardInterrupt\u001b[0m: "
     ]
    }
   ],
   "source": [
    "while (True):\n",
    "    now = datetime.datetime.now()\n",
    "    today_begin1 = datetime.datetime(now.year, now.month, now.day, 9, 29)\n",
    "    today_end1 = datetime.datetime(now.year, now.month, now.day, 11, 31)\n",
    "    today_begin2 = datetime.datetime(now.year, now.month, now.day, 12, 59)\n",
    "    today_end2 = datetime.datetime(now.year, now.month, now.day, 15, 1)\n",
    "\n",
    "#     # create folder\n",
    "#     cwd = os.getcwd()\n",
    "#     today_date = time.strftime(\"%Y%m%d\")\n",
    "#     target_dir = cwd+os.path.sep+today_date+\"_time\"\n",
    "#     try:\n",
    "#         os.makedirs(name=target_dir)\n",
    "#     except:\n",
    "#         print ('folder already existed')\n",
    "\n",
    "    now = datetime.datetime.now()\n",
    "\n",
    "    duration_mins = 15\n",
    "\n",
    "    while (now-today_end2).days < 0: \n",
    "        while (now.timetuple().tm_sec != 0) or (now.timetuple().tm_min % duration_mins != 0) :\n",
    "            time.sleep(0.5)\n",
    "            now = datetime.datetime.now()\n",
    "\n",
    "        if (((today_begin1-now).days < 0 and (now-today_end1).days < 0) or ((today_begin2-now).days < 0 and (now-today_end2).days < 0)) :\n",
    "            getDailyData()\n",
    "            print(datetime.datetime.now())\n",
    "\n",
    "        time.sleep(duration_mins * 60 - 300)\n",
    "        now = datetime.datetime.now()\n",
    "    \n",
    "    time.sleep(3600)"
   ]
  },
  {
   "cell_type": "code",
   "execution_count": null,
   "metadata": {},
   "outputs": [],
   "source": [
    "getDailyData()"
   ]
  },
  {
   "cell_type": "code",
   "execution_count": null,
   "metadata": {
    "collapsed": true
   },
   "outputs": [],
   "source": []
  }
 ],
 "metadata": {
  "kernelspec": {
   "display_name": "Python 3",
   "language": "python",
   "name": "python3"
  },
  "language_info": {
   "codemirror_mode": {
    "name": "ipython",
    "version": 3
   },
   "file_extension": ".py",
   "mimetype": "text/x-python",
   "name": "python",
   "nbconvert_exporter": "python",
   "pygments_lexer": "ipython3",
   "version": "3.6.1"
  }
 },
 "nbformat": 4,
 "nbformat_minor": 2
}
